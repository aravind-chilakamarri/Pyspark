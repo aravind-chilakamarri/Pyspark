{
  "nbformat": 4,
  "nbformat_minor": 0,
  "metadata": {
    "colab": {
      "provenance": [],
      "authorship_tag": "ABX9TyNW/ZBI8vpyQwMu3GGHKLo4",
      "include_colab_link": true
    },
    "kernelspec": {
      "name": "python3",
      "display_name": "Python 3"
    },
    "language_info": {
      "name": "python"
    }
  },
  "cells": [
    {
      "cell_type": "markdown",
      "metadata": {
        "id": "view-in-github",
        "colab_type": "text"
      },
      "source": [
        "<a href=\"https://colab.research.google.com/github/aravind-chilakamarri/Pyspark/blob/main/Pyspark_3.ipynb\" target=\"_parent\"><img src=\"https://colab.research.google.com/assets/colab-badge.svg\" alt=\"Open In Colab\"/></a>"
      ]
    },
    {
      "cell_type": "markdown",
      "source": [
        "\n",
        "Next:\n",
        "1. Dropping Columns\n",
        "2. Dropping Rows\n",
        "3. Various Parameters in Dropping functionalities\n",
        "4. Handling Missing Values by Mean, Median and Mode\n"
      ],
      "metadata": {
        "id": "du_afvrL-IfE"
      }
    },
    {
      "cell_type": "code",
      "source": [
        "# from pyspark.sql import SparkSession"
      ],
      "metadata": {
        "id": "_JiXHzBr8y-K"
      },
      "execution_count": null,
      "outputs": []
    },
    {
      "cell_type": "code",
      "source": [
        "# spark = sparkSession.builder.appName('Practise').getOrCreate()"
      ],
      "metadata": {
        "id": "R4ibqyr7_cbf"
      },
      "execution_count": null,
      "outputs": []
    },
    {
      "cell_type": "code",
      "source": [
        "df_pyspark = spark.read.csv('/content/test2.csv', inferSchema=True, header=True)"
      ],
      "metadata": {
        "id": "MfU44jd7_kjg"
      },
      "execution_count": null,
      "outputs": []
    },
    {
      "cell_type": "code",
      "source": [
        "df_pyspark.show()"
      ],
      "metadata": {
        "colab": {
          "base_uri": "https://localhost:8080/"
        },
        "id": "jn5nFnSpAmcB",
        "outputId": "9981e612-4e5e-4457-e5d0-2117770f5745"
      },
      "execution_count": null,
      "outputs": [
        {
          "output_type": "stream",
          "name": "stdout",
          "text": [
            "+----+----+----------+------+\n",
            "|name| age|experience|salary|\n",
            "+----+----+----------+------+\n",
            "|   a|  27|         2|100000|\n",
            "|   b|  28|         3|200000|\n",
            "|   c|  40|         7|340000|\n",
            "|   d|NULL|         4|150000|\n",
            "|   e|NULL|      NULL|180000|\n",
            "|   f|  29|         6|175600|\n",
            "|NULL|  23|      NULL|120000|\n",
            "|NULL|  25|         5|170000|\n",
            "|   g|  27|      NULL|  NULL|\n",
            "|   h|  28|      NULL| 19000|\n",
            "+----+----+----------+------+\n",
            "\n"
          ]
        }
      ]
    },
    {
      "cell_type": "code",
      "source": [
        "#Drop the columns\n",
        "df_pyspark.drop('name').show()"
      ],
      "metadata": {
        "colab": {
          "base_uri": "https://localhost:8080/"
        },
        "id": "bmQmK3KnAqCe",
        "outputId": "b12d5eba-007f-49f2-b883-f4ebb9923d53"
      },
      "execution_count": null,
      "outputs": [
        {
          "output_type": "stream",
          "name": "stdout",
          "text": [
            "+----+----------+------+\n",
            "| age|experience|salary|\n",
            "+----+----------+------+\n",
            "|  27|         2|100000|\n",
            "|  28|         3|200000|\n",
            "|  40|         7|340000|\n",
            "|NULL|         4|150000|\n",
            "|NULL|      NULL|180000|\n",
            "|  29|         6|175600|\n",
            "|  23|      NULL|120000|\n",
            "|  25|         5|170000|\n",
            "|  27|      NULL|  NULL|\n",
            "|  28|      NULL| 19000|\n",
            "+----+----------+------+\n",
            "\n"
          ]
        }
      ]
    },
    {
      "cell_type": "code",
      "source": [
        "df_pyspark.show()"
      ],
      "metadata": {
        "colab": {
          "base_uri": "https://localhost:8080/"
        },
        "id": "KYxUEiJKAwyo",
        "outputId": "62f20f07-343e-4d03-ee05-1908303bd457"
      },
      "execution_count": null,
      "outputs": [
        {
          "output_type": "stream",
          "name": "stdout",
          "text": [
            "+----+----+----------+------+\n",
            "|name| age|experience|salary|\n",
            "+----+----+----------+------+\n",
            "|   a|  27|         2|100000|\n",
            "|   b|  28|         3|200000|\n",
            "|   c|  40|         7|340000|\n",
            "|   d|NULL|         4|150000|\n",
            "|   e|NULL|      NULL|180000|\n",
            "|   f|  29|         6|175600|\n",
            "|NULL|  23|      NULL|120000|\n",
            "|NULL|  25|         5|170000|\n",
            "|   g|  27|      NULL|  NULL|\n",
            "|   h|  28|      NULL| 19000|\n",
            "+----+----+----------+------+\n",
            "\n"
          ]
        }
      ]
    },
    {
      "cell_type": "code",
      "source": [
        "# Drop columns using null values\n",
        "# this drop wherever null values are present\n",
        "\n",
        "df_pyspark.na.drop().show()"
      ],
      "metadata": {
        "colab": {
          "base_uri": "https://localhost:8080/"
        },
        "id": "rApwEy9TA3e-",
        "outputId": "dfb562f8-9df7-46db-e51a-3e86ed471414"
      },
      "execution_count": null,
      "outputs": [
        {
          "output_type": "stream",
          "name": "stdout",
          "text": [
            "+----+---+----------+------+\n",
            "|name|age|experience|salary|\n",
            "+----+---+----------+------+\n",
            "|   a| 27|         2|100000|\n",
            "|   b| 28|         3|200000|\n",
            "|   c| 40|         7|340000|\n",
            "|   f| 29|         6|175600|\n",
            "+----+---+----------+------+\n",
            "\n"
          ]
        }
      ]
    },
    {
      "cell_type": "code",
      "source": [
        "#how, any, threshold\n",
        "\n",
        "#any == how\n",
        "\n",
        "df_pyspark.na.drop(how='all').show() #if a row with all values as null then it will get dropped"
      ],
      "metadata": {
        "colab": {
          "base_uri": "https://localhost:8080/"
        },
        "id": "0WIBZIwzBAP9",
        "outputId": "e0e11e69-19f8-41d3-911c-f18cd6d35295"
      },
      "execution_count": null,
      "outputs": [
        {
          "output_type": "stream",
          "name": "stdout",
          "text": [
            "+----+----+----------+------+\n",
            "|name| age|experience|salary|\n",
            "+----+----+----------+------+\n",
            "|   a|  27|         2|100000|\n",
            "|   b|  28|         3|200000|\n",
            "|   c|  40|         7|340000|\n",
            "|   d|NULL|         4|150000|\n",
            "|   e|NULL|      NULL|180000|\n",
            "|   f|  29|         6|175600|\n",
            "|NULL|  23|      NULL|120000|\n",
            "|NULL|  25|         5|170000|\n",
            "|   g|  27|      NULL|  NULL|\n",
            "|   h|  28|      NULL| 19000|\n",
            "+----+----+----------+------+\n",
            "\n"
          ]
        }
      ]
    },
    {
      "cell_type": "code",
      "source": [
        "df_pyspark.na.drop(how='any').show() # default and if any column has null the drop complete row"
      ],
      "metadata": {
        "colab": {
          "base_uri": "https://localhost:8080/"
        },
        "id": "w713EdVTBXtP",
        "outputId": "fdd91f0f-9375-4487-c81e-e1c762f228f4"
      },
      "execution_count": null,
      "outputs": [
        {
          "output_type": "stream",
          "name": "stdout",
          "text": [
            "+----+---+----------+------+\n",
            "|name|age|experience|salary|\n",
            "+----+---+----------+------+\n",
            "|   a| 27|         2|100000|\n",
            "|   b| 28|         3|200000|\n",
            "|   c| 40|         7|340000|\n",
            "|   f| 29|         6|175600|\n",
            "+----+---+----------+------+\n",
            "\n"
          ]
        }
      ]
    },
    {
      "cell_type": "code",
      "source": [
        "df_pyspark.na.drop(thresh=2).show() # if there are any 2 values then keep the row otherwise delete"
      ],
      "metadata": {
        "colab": {
          "base_uri": "https://localhost:8080/"
        },
        "id": "tzsiU6gABeyy",
        "outputId": "7a6d7cf5-83d3-47c7-9181-6d594355b089"
      },
      "execution_count": null,
      "outputs": [
        {
          "output_type": "stream",
          "name": "stdout",
          "text": [
            "+----+----+----------+------+\n",
            "|name| age|experience|salary|\n",
            "+----+----+----------+------+\n",
            "|   a|  27|         2|100000|\n",
            "|   b|  28|         3|200000|\n",
            "|   c|  40|         7|340000|\n",
            "|   d|NULL|         4|150000|\n",
            "|   e|NULL|      NULL|180000|\n",
            "|   f|  29|         6|175600|\n",
            "|NULL|  23|      NULL|120000|\n",
            "|NULL|  25|         5|170000|\n",
            "|   g|  27|      NULL|  NULL|\n",
            "|   h|  28|      NULL| 19000|\n",
            "+----+----+----------+------+\n",
            "\n"
          ]
        }
      ]
    },
    {
      "cell_type": "code",
      "source": [
        "#subset\n",
        "\n",
        "df_pyspark.na.drop(how = \"any\", subset = ['experience']).show()"
      ],
      "metadata": {
        "colab": {
          "base_uri": "https://localhost:8080/"
        },
        "id": "ugNNxs0WB1iA",
        "outputId": "20c5c8ed-9363-45ed-886d-8930919bd76b"
      },
      "execution_count": null,
      "outputs": [
        {
          "output_type": "stream",
          "name": "stdout",
          "text": [
            "+----+----+----------+------+\n",
            "|name| age|experience|salary|\n",
            "+----+----+----------+------+\n",
            "|   a|  27|         2|100000|\n",
            "|   b|  28|         3|200000|\n",
            "|   c|  40|         7|340000|\n",
            "|   d|NULL|         4|150000|\n",
            "|   f|  29|         6|175600|\n",
            "|NULL|  25|         5|170000|\n",
            "+----+----+----------+------+\n",
            "\n"
          ]
        }
      ]
    },
    {
      "cell_type": "code",
      "source": [
        "# Filling the Missing values\n",
        "\n",
        "df_pyspark.na.fill('Missing values',['name','experience']).show() #ignoring non-string columns"
      ],
      "metadata": {
        "colab": {
          "base_uri": "https://localhost:8080/"
        },
        "id": "E_X3DsQ6CTjr",
        "outputId": "660394ff-1ea1-4617-d17a-679a90f82d10"
      },
      "execution_count": null,
      "outputs": [
        {
          "output_type": "stream",
          "name": "stdout",
          "text": [
            "+--------------+----+----------+------+\n",
            "|          name| age|experience|salary|\n",
            "+--------------+----+----------+------+\n",
            "|             a|  27|         2|100000|\n",
            "|             b|  28|         3|200000|\n",
            "|             c|  40|         7|340000|\n",
            "|             d|NULL|         4|150000|\n",
            "|             e|NULL|      NULL|180000|\n",
            "|             f|  29|         6|175600|\n",
            "|Missing values|  23|      NULL|120000|\n",
            "|Missing values|  25|         5|170000|\n",
            "|             g|  27|      NULL|  NULL|\n",
            "|             h|  28|      NULL| 19000|\n",
            "+--------------+----+----------+------+\n",
            "\n"
          ]
        }
      ]
    },
    {
      "cell_type": "code",
      "source": [
        "# impute the values in the place of NULLS\n",
        "\n",
        "from pyspark.ml.feature import Imputer\n",
        "\n",
        "imputer = Imputer(\n",
        "          inputCols = ['age','experience','salary'],\n",
        "          outputCols = [\"{}_imputed\".format(c) for c in ['age','experience','salary']]\n",
        ").setStrategy('mean')\n"
      ],
      "metadata": {
        "id": "DFsz0oaQClLE"
      },
      "execution_count": null,
      "outputs": []
    },
    {
      "cell_type": "code",
      "source": [
        "# Add imputation cols to df_pyspark\n",
        "\n",
        "imputer.fit(df_pyspark).transform(df_pyspark).show()"
      ],
      "metadata": {
        "colab": {
          "base_uri": "https://localhost:8080/"
        },
        "id": "5rNFMWQwEMkT",
        "outputId": "ff4e6cef-7c4d-4c70-86d9-ad4bd573efcc"
      },
      "execution_count": null,
      "outputs": [
        {
          "output_type": "stream",
          "name": "stdout",
          "text": [
            "+----+----+----------+------+-----------+------------------+--------------+\n",
            "|name| age|experience|salary|age_imputed|experience_imputed|salary_imputed|\n",
            "+----+----+----------+------+-----------+------------------+--------------+\n",
            "|   a|  27|         2|100000|         27|                 2|        100000|\n",
            "|   b|  28|         3|200000|         28|                 3|        200000|\n",
            "|   c|  40|         7|340000|         40|                 7|        340000|\n",
            "|   d|NULL|         4|150000|         28|                 4|        150000|\n",
            "|   e|NULL|      NULL|180000|         28|                 4|        180000|\n",
            "|   f|  29|         6|175600|         29|                 6|        175600|\n",
            "|NULL|  23|      NULL|120000|         23|                 4|        120000|\n",
            "|NULL|  25|         5|170000|         25|                 5|        170000|\n",
            "|   g|  27|      NULL|  NULL|         27|                 4|        161622|\n",
            "|   h|  28|      NULL| 19000|         28|                 4|         19000|\n",
            "+----+----+----------+------+-----------+------------------+--------------+\n",
            "\n"
          ]
        }
      ]
    }
  ]
}
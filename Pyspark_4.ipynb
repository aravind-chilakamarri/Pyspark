{
  "nbformat": 4,
  "nbformat_minor": 0,
  "metadata": {
    "colab": {
      "provenance": [],
      "authorship_tag": "ABX9TyNPF+bNEF0yc5zjUSiBFmlk",
      "include_colab_link": true
    },
    "kernelspec": {
      "name": "python3",
      "display_name": "Python 3"
    },
    "language_info": {
      "name": "python"
    }
  },
  "cells": [
    {
      "cell_type": "markdown",
      "metadata": {
        "id": "view-in-github",
        "colab_type": "text"
      },
      "source": [
        "<a href=\"https://colab.research.google.com/github/aravind-chilakamarri/Pyspark/blob/main/Pyspark_4.ipynb\" target=\"_parent\"><img src=\"https://colab.research.google.com/assets/colab-badge.svg\" alt=\"Open In Colab\"/></a>"
      ]
    },
    {
      "cell_type": "markdown",
      "source": [
        "Next:\n",
        "1. Filter Operation\n",
        "2. &,|,==\n",
        "3. ~\n",
        "\n"
      ],
      "metadata": {
        "id": "EE7lUXrbGnpn"
      }
    },
    {
      "cell_type": "code",
      "source": [
        "from pyspark.sql import SparkSession"
      ],
      "metadata": {
        "id": "-34o-GfUEWHf"
      },
      "execution_count": null,
      "outputs": []
    },
    {
      "cell_type": "code",
      "source": [
        "df_pyspark = spark.read.csv('/content/test3.csv', inferSchema =True, header = True)"
      ],
      "metadata": {
        "id": "583Rt_LyGmjT"
      },
      "execution_count": null,
      "outputs": []
    },
    {
      "cell_type": "code",
      "source": [
        "df_pyspark.show()"
      ],
      "metadata": {
        "colab": {
          "base_uri": "https://localhost:8080/"
        },
        "id": "yKrXWjzsHBSG",
        "outputId": "3a59de3f-c5ab-4b28-a792-614ad16af436"
      },
      "execution_count": null,
      "outputs": [
        {
          "output_type": "stream",
          "name": "stdout",
          "text": [
            "+----+---+----------+------+\n",
            "|name|age|experience|salary|\n",
            "+----+---+----------+------+\n",
            "|   a|  1|         1| 10000|\n",
            "|   b|  2|         2| 15000|\n",
            "|   c|  3|         3| 24000|\n",
            "|   d|  4|         2| 12000|\n",
            "|   e|  5|         5| 34000|\n",
            "+----+---+----------+------+\n",
            "\n"
          ]
        }
      ]
    },
    {
      "cell_type": "code",
      "source": [
        "# Filter Operations\n",
        "\n"
      ],
      "metadata": {
        "id": "mmueoAUEHC4O"
      },
      "execution_count": null,
      "outputs": []
    }
  ]
}
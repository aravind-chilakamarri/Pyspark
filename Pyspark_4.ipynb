{
  "nbformat": 4,
  "nbformat_minor": 0,
  "metadata": {
    "colab": {
      "provenance": [],
      "authorship_tag": "ABX9TyMjjWfkjbHc3MCFpIhdXhqt",
      "include_colab_link": true
    },
    "kernelspec": {
      "name": "python3",
      "display_name": "Python 3"
    },
    "language_info": {
      "name": "python"
    }
  },
  "cells": [
    {
      "cell_type": "markdown",
      "metadata": {
        "id": "view-in-github",
        "colab_type": "text"
      },
      "source": [
        "<a href=\"https://colab.research.google.com/github/aravind-chilakamarri/Pyspark/blob/main/Pyspark_4.ipynb\" target=\"_parent\"><img src=\"https://colab.research.google.com/assets/colab-badge.svg\" alt=\"Open In Colab\"/></a>"
      ]
    },
    {
      "cell_type": "markdown",
      "source": [
        "Next:\n",
        "1. Filter Operation\n",
        "2. &,|,==\n",
        "3. ~\n",
        "\n"
      ],
      "metadata": {
        "id": "EE7lUXrbGnpn"
      }
    },
    {
      "cell_type": "code",
      "source": [
        "!pip install pyspark"
      ],
      "metadata": {
        "id": "fmI-7yd6EIvG",
        "outputId": "8d867311-0c40-4532-b9de-ea1310561fb0",
        "colab": {
          "base_uri": "https://localhost:8080/"
        }
      },
      "execution_count": 2,
      "outputs": [
        {
          "output_type": "stream",
          "name": "stdout",
          "text": [
            "Collecting pyspark\n",
            "  Downloading pyspark-3.5.0.tar.gz (316.9 MB)\n",
            "\u001b[2K     \u001b[90m━━━━━━━━━━━━━━━━━━━━━━━━━━━━━━━━━━━━━━━━\u001b[0m \u001b[32m316.9/316.9 MB\u001b[0m \u001b[31m2.9 MB/s\u001b[0m eta \u001b[36m0:00:00\u001b[0m\n",
            "\u001b[?25h  Preparing metadata (setup.py) ... \u001b[?25l\u001b[?25hdone\n",
            "Requirement already satisfied: py4j==0.10.9.7 in /usr/local/lib/python3.10/dist-packages (from pyspark) (0.10.9.7)\n",
            "Building wheels for collected packages: pyspark\n",
            "  Building wheel for pyspark (setup.py) ... \u001b[?25l\u001b[?25hdone\n",
            "  Created wheel for pyspark: filename=pyspark-3.5.0-py2.py3-none-any.whl size=317425344 sha256=21315da6d4b55e1392d27caa63e99579d27f9520c0aca9e6a08e83961ea33962\n",
            "  Stored in directory: /root/.cache/pip/wheels/41/4e/10/c2cf2467f71c678cfc8a6b9ac9241e5e44a01940da8fbb17fc\n",
            "Successfully built pyspark\n",
            "Installing collected packages: pyspark\n",
            "Successfully installed pyspark-3.5.0\n"
          ]
        }
      ]
    },
    {
      "cell_type": "code",
      "source": [
        "from pyspark.sql import SparkSession\n",
        "import pandas as pd"
      ],
      "metadata": {
        "id": "-34o-GfUEWHf"
      },
      "execution_count": 7,
      "outputs": []
    },
    {
      "cell_type": "code",
      "source": [
        "spark = SparkSession.builder.appName('Practice 4').getOrCreate()"
      ],
      "metadata": {
        "id": "GxhkPbI6Eqs8"
      },
      "execution_count": 13,
      "outputs": []
    },
    {
      "cell_type": "code",
      "source": [
        "pd_df = pd.read_csv('https://raw.githubusercontent.com/aravind-chilakamarri/Pyspark/main/datasets/test3.csv')"
      ],
      "metadata": {
        "id": "lljZl-67Ez3b"
      },
      "execution_count": 11,
      "outputs": []
    },
    {
      "cell_type": "code",
      "source": [
        "df_pyspark = spark.createDataFrame(pd_df)"
      ],
      "metadata": {
        "id": "583Rt_LyGmjT"
      },
      "execution_count": 15,
      "outputs": []
    },
    {
      "cell_type": "code",
      "source": [
        "df_pyspark.show()"
      ],
      "metadata": {
        "colab": {
          "base_uri": "https://localhost:8080/"
        },
        "id": "yKrXWjzsHBSG",
        "outputId": "5d7ba2a7-bdcd-4365-e2ca-3ec186d6081b"
      },
      "execution_count": 16,
      "outputs": [
        {
          "output_type": "stream",
          "name": "stdout",
          "text": [
            "+----+---+----------+------+\n",
            "|name|age|experience|salary|\n",
            "+----+---+----------+------+\n",
            "|   a|  1|         1| 10000|\n",
            "|   b|  2|         2| 15000|\n",
            "|   c|  3|         3| 24000|\n",
            "|   d|  4|         2| 12000|\n",
            "|   e|  5|         5| 34000|\n",
            "+----+---+----------+------+\n",
            "\n"
          ]
        }
      ]
    },
    {
      "cell_type": "markdown",
      "source": [
        "# Filter Operations\n"
      ],
      "metadata": {
        "id": "Zmel-puWF7A2"
      }
    },
    {
      "cell_type": "code",
      "source": [
        "# Salaries of the people less than or equal to 20000\n",
        "\n",
        "df_pyspark.filter(\"salary <= 20000\").show()"
      ],
      "metadata": {
        "id": "mmueoAUEHC4O",
        "outputId": "91d4bdee-3fb6-4f96-e9e0-f9acf37690c3",
        "colab": {
          "base_uri": "https://localhost:8080/"
        }
      },
      "execution_count": 17,
      "outputs": [
        {
          "output_type": "stream",
          "name": "stdout",
          "text": [
            "+----+---+----------+------+\n",
            "|name|age|experience|salary|\n",
            "+----+---+----------+------+\n",
            "|   a|  1|         1| 10000|\n",
            "|   b|  2|         2| 15000|\n",
            "|   d|  4|         2| 12000|\n",
            "+----+---+----------+------+\n",
            "\n"
          ]
        }
      ]
    },
    {
      "cell_type": "code",
      "source": [
        "df_pyspark.filter(\"salary <= 20000\").select(['name','age']).show()"
      ],
      "metadata": {
        "id": "q17khS4OGJ8L",
        "outputId": "c78fb295-d387-4005-dd92-fadf499c4748",
        "colab": {
          "base_uri": "https://localhost:8080/"
        }
      },
      "execution_count": 18,
      "outputs": [
        {
          "output_type": "stream",
          "name": "stdout",
          "text": [
            "+----+---+\n",
            "|name|age|\n",
            "+----+---+\n",
            "|   a|  1|\n",
            "|   b|  2|\n",
            "|   d|  4|\n",
            "+----+---+\n",
            "\n"
          ]
        }
      ]
    },
    {
      "cell_type": "code",
      "source": [
        "df_pyspark.filter(df_pyspark['salary']<=20000).show()"
      ],
      "metadata": {
        "id": "H8T_hPeGGTmp",
        "outputId": "d7113f8e-adef-4ab4-d1bd-ad274edfe83f",
        "colab": {
          "base_uri": "https://localhost:8080/"
        }
      },
      "execution_count": 19,
      "outputs": [
        {
          "output_type": "stream",
          "name": "stdout",
          "text": [
            "+----+---+----------+------+\n",
            "|name|age|experience|salary|\n",
            "+----+---+----------+------+\n",
            "|   a|  1|         1| 10000|\n",
            "|   b|  2|         2| 15000|\n",
            "|   d|  4|         2| 12000|\n",
            "+----+---+----------+------+\n",
            "\n"
          ]
        }
      ]
    },
    {
      "cell_type": "code",
      "source": [
        "df_pyspark.filter(\n",
        "                  (df_pyspark['salary']<=20000) &\n",
        "                  (df_pyspark['salary']>=15000)).show()"
      ],
      "metadata": {
        "id": "bYYnmmK6Gbcx",
        "outputId": "51d8c2f7-c016-4e84-b3fe-843ea71800b2",
        "colab": {
          "base_uri": "https://localhost:8080/"
        }
      },
      "execution_count": 26,
      "outputs": [
        {
          "output_type": "stream",
          "name": "stdout",
          "text": [
            "+----+---+----------+------+\n",
            "|name|age|experience|salary|\n",
            "+----+---+----------+------+\n",
            "|   b|  2|         2| 15000|\n",
            "+----+---+----------+------+\n",
            "\n"
          ]
        }
      ]
    },
    {
      "cell_type": "code",
      "source": [
        "df_pyspark.filter(~(df_pyspark['salary']<=20000)).show()"
      ],
      "metadata": {
        "id": "4iK3hr63GoW0",
        "outputId": "7ef5cf24-8e63-44bb-a2f2-21a71390ae4a",
        "colab": {
          "base_uri": "https://localhost:8080/"
        }
      },
      "execution_count": 28,
      "outputs": [
        {
          "output_type": "stream",
          "name": "stdout",
          "text": [
            "+----+---+----------+------+\n",
            "|name|age|experience|salary|\n",
            "+----+---+----------+------+\n",
            "|   c|  3|         3| 24000|\n",
            "|   e|  5|         5| 34000|\n",
            "+----+---+----------+------+\n",
            "\n"
          ]
        }
      ]
    },
    {
      "cell_type": "code",
      "source": [],
      "metadata": {
        "id": "Ieih1y96HFNn"
      },
      "execution_count": null,
      "outputs": []
    }
  ]
}
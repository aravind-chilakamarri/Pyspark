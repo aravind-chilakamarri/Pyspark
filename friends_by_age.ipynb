{
 "cells": [
  {
   "cell_type": "code",
   "execution_count": 0,
   "metadata": {
    "application/vnd.databricks.v1+cell": {
     "cellMetadata": {
      "byteLimit": 2048000,
      "rowLimit": 10000
     },
     "inputWidgets": {},
     "nuid": "d701d027-b191-4e28-82c1-6c21e746788e",
     "showTitle": false,
     "title": ""
    }
   },
   "outputs": [],
   "source": [
    "from pyspark import SparkConf, SparkContext\n",
    "conf = SparkConf().setMaster(\"local\").setAppName(\"FriendsByAge\")\n",
    "sc = SparkContext.getOrCreate()"
   ]
  },
  {
   "cell_type": "code",
   "execution_count": 0,
   "metadata": {
    "application/vnd.databricks.v1+cell": {
     "cellMetadata": {
      "byteLimit": 2048000,
      "rowLimit": 10000
     },
     "inputWidgets": {},
     "nuid": "8d44dffc-762e-4039-a69f-099ee57a1b1b",
     "showTitle": false,
     "title": ""
    }
   },
   "outputs": [],
   "source": [
    "def parseLine(line):\n",
    "    fields = line.split(',')\n",
    "    age = int(fields[2])\n",
    "    numFriends = int(fields[3])\n",
    "    return (age, numFriends)"
   ]
  },
  {
   "cell_type": "code",
   "execution_count": 0,
   "metadata": {
    "application/vnd.databricks.v1+cell": {
     "cellMetadata": {
      "byteLimit": 2048000,
      "rowLimit": 10000
     },
     "inputWidgets": {},
     "nuid": "c997f4a1-9733-4492-b517-f4944aec3e64",
     "showTitle": false,
     "title": ""
    }
   },
   "outputs": [],
   "source": [
    "# get the dataset from https://github.com/aravind-chilakamarri/Pyspark/blob/main/datasets/fakefriends.csv\n",
    "lines = sc.textFile(\"/FileStore/tables/fakefriends-1.csv\")\n"
   ]
  },
  {
   "cell_type": "code",
   "execution_count": 0,
   "metadata": {
    "application/vnd.databricks.v1+cell": {
     "cellMetadata": {
      "byteLimit": 2048000,
      "rowLimit": 10000
     },
     "inputWidgets": {},
     "nuid": "c8d6f670-2042-4621-bb83-ea7d9025eefc",
     "showTitle": false,
     "title": ""
    }
   },
   "outputs": [],
   "source": [
    "rdd = lines.map(parseLine)"
   ]
  },
  {
   "cell_type": "code",
   "execution_count": 0,
   "metadata": {
    "application/vnd.databricks.v1+cell": {
     "cellMetadata": {
      "byteLimit": 2048000,
      "rowLimit": 10000
     },
     "inputWidgets": {},
     "nuid": "8f95e414-b04c-4471-a732-814a5f33b95e",
     "showTitle": false,
     "title": ""
    }
   },
   "outputs": [],
   "source": [
    "totalsByAge = rdd.mapValues(lambda x: (x, 1)).reduceByKey(lambda x, y: (x[0] + y[0], x[1] + y[1]))"
   ]
  },
  {
   "cell_type": "code",
   "execution_count": 0,
   "metadata": {
    "application/vnd.databricks.v1+cell": {
     "cellMetadata": {
      "byteLimit": 2048000,
      "rowLimit": 10000
     },
     "inputWidgets": {},
     "nuid": "98dda069-2d6f-4f98-a37b-79f9b034ff37",
     "showTitle": false,
     "title": ""
    }
   },
   "outputs": [],
   "source": [
    "averagesByAge = totalsByAge.mapValues(lambda x: x[0] / x[1])"
   ]
  },
  {
   "cell_type": "code",
   "execution_count": 0,
   "metadata": {
    "application/vnd.databricks.v1+cell": {
     "cellMetadata": {
      "byteLimit": 2048000,
      "rowLimit": 10000
     },
     "inputWidgets": {},
     "nuid": "bc900183-73e3-4bea-a464-5dc0d4e6cb96",
     "showTitle": false,
     "title": ""
    }
   },
   "outputs": [],
   "source": [
    "results = averagesByAge.collect()\n"
   ]
  },
  {
   "cell_type": "code",
   "execution_count": 0,
   "metadata": {
    "application/vnd.databricks.v1+cell": {
     "cellMetadata": {
      "byteLimit": 2048000,
      "rowLimit": 10000
     },
     "inputWidgets": {},
     "nuid": "c7f514a9-f866-4f13-95de-6abc381b0684",
     "showTitle": false,
     "title": ""
    }
   },
   "outputs": [
    {
     "output_type": "stream",
     "name": "stdout",
     "output_type": "stream",
     "text": [
      "(26, 242.05882352941177)\n(40, 250.8235294117647)\n(68, 269.6)\n(54, 278.0769230769231)\n(38, 193.53333333333333)\n(56, 306.6666666666667)\n(36, 246.6)\n(22, 206.42857142857142)\n(60, 202.71428571428572)\n(30, 235.8181818181818)\n(42, 303.5)\n(48, 281.4)\n(50, 254.6)\n(32, 207.9090909090909)\n(58, 116.54545454545455)\n(64, 281.3333333333333)\n(52, 340.6363636363636)\n(24, 233.8)\n(20, 165.0)\n(62, 220.76923076923077)\n(44, 282.1666666666667)\n(28, 209.1)\n(66, 276.44444444444446)\n(46, 223.69230769230768)\n(18, 343.375)\n(34, 245.5)\n(33, 325.3333333333333)\n(55, 295.53846153846155)\n(59, 220.0)\n(37, 249.33333333333334)\n(27, 228.125)\n(53, 222.85714285714286)\n(57, 258.8333333333333)\n(43, 230.57142857142858)\n(35, 211.625)\n(45, 309.53846153846155)\n(67, 214.625)\n(19, 213.27272727272728)\n(51, 302.14285714285717)\n(25, 197.45454545454547)\n(21, 350.875)\n(49, 184.66666666666666)\n(39, 169.28571428571428)\n(31, 267.25)\n(41, 268.55555555555554)\n(69, 235.2)\n(65, 298.2)\n(61, 256.22222222222223)\n(29, 215.91666666666666)\n(47, 233.22222222222223)\n(63, 384.0)\n(23, 246.3)\n"
     ]
    }
   ],
   "source": [
    "for result in results:\n",
    "    print(result)"
   ]
  },
  {
   "cell_type": "code",
   "execution_count": 0,
   "metadata": {
    "application/vnd.databricks.v1+cell": {
     "cellMetadata": {},
     "inputWidgets": {},
     "nuid": "d6964e42-a659-442f-8759-166e8051cfb7",
     "showTitle": false,
     "title": ""
    }
   },
   "outputs": [],
   "source": []
  }
 ],
 "metadata": {
  "application/vnd.databricks.v1+notebook": {
   "dashboards": [],
   "language": "python",
   "notebookMetadata": {
    "pythonIndentUnit": 4
   },
   "notebookName": "friends_by_age",
   "widgets": {}
  }
 },
 "nbformat": 4,
 "nbformat_minor": 0
}
